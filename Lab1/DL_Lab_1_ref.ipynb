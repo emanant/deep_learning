{
 "cells": [
  {
   "cell_type": "markdown",
   "metadata": {
    "colab_type": "text",
    "id": "fpMV2q3Jy58f"
   },
   "source": [
    "# Deep Learning Lab Assignment 1"
   ]
  },
  {
   "cell_type": "markdown",
   "metadata": {},
   "source": [
    " "
   ]
  },
  {
   "cell_type": "markdown",
   "metadata": {},
   "source": [
    "# Importing Necessory Libraries"
   ]
  },
  {
   "cell_type": "code",
   "execution_count": 1,
   "metadata": {
    "colab": {},
    "colab_type": "code",
    "id": "QIJDFxLay9kp"
   },
   "outputs": [],
   "source": [
    "import numpy as np \n",
    "import matplotlib.pyplot as plt \n",
    "import seaborn as sns\n",
    "import pandas as pd\n",
    "sns.set_style(\"darkgrid\")"
   ]
  },
  {
   "cell_type": "markdown",
   "metadata": {
    "colab_type": "text",
    "id": "U4jwwO3D6eN_"
   },
   "source": [
    "# Part 1 : Linear Regression"
   ]
  },
  {
   "cell_type": "markdown",
   "metadata": {},
   "source": [
    "## Loading Data"
   ]
  },
  {
   "cell_type": "code",
   "execution_count": 2,
   "metadata": {
    "colab": {
     "base_uri": "https://localhost:8080/",
     "height": 178
    },
    "colab_type": "code",
    "id": "qiOO1-GezE9e",
    "outputId": "5364e07b-f921-4e75-c6e5-2bbc41b61e7e"
   },
   "outputs": [
    {
     "data": {
      "text/html": [
       "<div>\n",
       "<style scoped>\n",
       "    .dataframe tbody tr th:only-of-type {\n",
       "        vertical-align: middle;\n",
       "    }\n",
       "\n",
       "    .dataframe tbody tr th {\n",
       "        vertical-align: top;\n",
       "    }\n",
       "\n",
       "    .dataframe thead th {\n",
       "        text-align: right;\n",
       "    }\n",
       "</style>\n",
       "<table border=\"1\" class=\"dataframe\">\n",
       "  <thead>\n",
       "    <tr style=\"text-align: right;\">\n",
       "      <th></th>\n",
       "      <th>Serial No.</th>\n",
       "      <th>GRE Score</th>\n",
       "      <th>TOEFL Score</th>\n",
       "      <th>University Rating</th>\n",
       "      <th>SOP</th>\n",
       "      <th>LOR</th>\n",
       "      <th>CGPA</th>\n",
       "      <th>Research</th>\n",
       "      <th>Chance of Admit</th>\n",
       "    </tr>\n",
       "  </thead>\n",
       "  <tbody>\n",
       "    <tr>\n",
       "      <td>0</td>\n",
       "      <td>1</td>\n",
       "      <td>337</td>\n",
       "      <td>118</td>\n",
       "      <td>4</td>\n",
       "      <td>4.5</td>\n",
       "      <td>4.5</td>\n",
       "      <td>9.65</td>\n",
       "      <td>1</td>\n",
       "      <td>0.92</td>\n",
       "    </tr>\n",
       "    <tr>\n",
       "      <td>1</td>\n",
       "      <td>2</td>\n",
       "      <td>324</td>\n",
       "      <td>107</td>\n",
       "      <td>4</td>\n",
       "      <td>4.0</td>\n",
       "      <td>4.5</td>\n",
       "      <td>8.87</td>\n",
       "      <td>1</td>\n",
       "      <td>0.76</td>\n",
       "    </tr>\n",
       "    <tr>\n",
       "      <td>2</td>\n",
       "      <td>3</td>\n",
       "      <td>316</td>\n",
       "      <td>104</td>\n",
       "      <td>3</td>\n",
       "      <td>3.0</td>\n",
       "      <td>3.5</td>\n",
       "      <td>8.00</td>\n",
       "      <td>1</td>\n",
       "      <td>0.72</td>\n",
       "    </tr>\n",
       "    <tr>\n",
       "      <td>3</td>\n",
       "      <td>4</td>\n",
       "      <td>322</td>\n",
       "      <td>110</td>\n",
       "      <td>3</td>\n",
       "      <td>3.5</td>\n",
       "      <td>2.5</td>\n",
       "      <td>8.67</td>\n",
       "      <td>1</td>\n",
       "      <td>0.80</td>\n",
       "    </tr>\n",
       "    <tr>\n",
       "      <td>4</td>\n",
       "      <td>5</td>\n",
       "      <td>314</td>\n",
       "      <td>103</td>\n",
       "      <td>2</td>\n",
       "      <td>2.0</td>\n",
       "      <td>3.0</td>\n",
       "      <td>8.21</td>\n",
       "      <td>0</td>\n",
       "      <td>0.65</td>\n",
       "    </tr>\n",
       "  </tbody>\n",
       "</table>\n",
       "</div>"
      ],
      "text/plain": [
       "   Serial No.  GRE Score  TOEFL Score  University Rating  SOP  LOR  CGPA  \\\n",
       "0           1        337          118                  4  4.5  4.5  9.65   \n",
       "1           2        324          107                  4  4.0  4.5  8.87   \n",
       "2           3        316          104                  3  3.0  3.5  8.00   \n",
       "3           4        322          110                  3  3.5  2.5  8.67   \n",
       "4           5        314          103                  2  2.0  3.0  8.21   \n",
       "\n",
       "   Research  Chance of Admit  \n",
       "0         1             0.92  \n",
       "1         1             0.76  \n",
       "2         1             0.72  \n",
       "3         1             0.80  \n",
       "4         0             0.65  "
      ]
     },
     "execution_count": 2,
     "metadata": {},
     "output_type": "execute_result"
    }
   ],
   "source": [
    "data = pd.read_csv(\"Admission_Predict.csv\")\n",
    "data.head()"
   ]
  },
  {
   "cell_type": "markdown",
   "metadata": {},
   "source": [
    "## Data Subset"
   ]
  },
  {
   "cell_type": "code",
   "execution_count": 3,
   "metadata": {
    "colab": {
     "base_uri": "https://localhost:8080/",
     "height": 178
    },
    "colab_type": "code",
    "id": "_0kqlu2l6na2",
    "outputId": "df871761-5619-473f-93d3-fe3904188f00"
   },
   "outputs": [
    {
     "data": {
      "text/html": [
       "<div>\n",
       "<style scoped>\n",
       "    .dataframe tbody tr th:only-of-type {\n",
       "        vertical-align: middle;\n",
       "    }\n",
       "\n",
       "    .dataframe tbody tr th {\n",
       "        vertical-align: top;\n",
       "    }\n",
       "\n",
       "    .dataframe thead th {\n",
       "        text-align: right;\n",
       "    }\n",
       "</style>\n",
       "<table border=\"1\" class=\"dataframe\">\n",
       "  <thead>\n",
       "    <tr style=\"text-align: right;\">\n",
       "      <th></th>\n",
       "      <th>GRE Score</th>\n",
       "      <th>Chance of Admit</th>\n",
       "    </tr>\n",
       "  </thead>\n",
       "  <tbody>\n",
       "    <tr>\n",
       "      <td>0</td>\n",
       "      <td>337</td>\n",
       "      <td>0.92</td>\n",
       "    </tr>\n",
       "    <tr>\n",
       "      <td>1</td>\n",
       "      <td>324</td>\n",
       "      <td>0.76</td>\n",
       "    </tr>\n",
       "    <tr>\n",
       "      <td>2</td>\n",
       "      <td>316</td>\n",
       "      <td>0.72</td>\n",
       "    </tr>\n",
       "    <tr>\n",
       "      <td>3</td>\n",
       "      <td>322</td>\n",
       "      <td>0.80</td>\n",
       "    </tr>\n",
       "    <tr>\n",
       "      <td>4</td>\n",
       "      <td>314</td>\n",
       "      <td>0.65</td>\n",
       "    </tr>\n",
       "  </tbody>\n",
       "</table>\n",
       "</div>"
      ],
      "text/plain": [
       "   GRE Score  Chance of Admit\n",
       "0        337             0.92\n",
       "1        324             0.76\n",
       "2        316             0.72\n",
       "3        322             0.80\n",
       "4        314             0.65"
      ]
     },
     "execution_count": 3,
     "metadata": {},
     "output_type": "execute_result"
    }
   ],
   "source": [
    "data_1 = data[[\"GRE Score\",\"Chance of Admit\"]]\n",
    "data_1.head()"
   ]
  },
  {
   "cell_type": "markdown",
   "metadata": {
    "colab_type": "text",
    "id": "VQBTzmCc_1uF"
   },
   "source": [
    "## Data Visualisation"
   ]
  },
  {
   "cell_type": "code",
   "execution_count": 4,
   "metadata": {
    "colab": {
     "base_uri": "https://localhost:8080/",
     "height": 300
    },
    "colab_type": "code",
    "id": "I-gYDVYV8UC9",
    "outputId": "62ed967f-024f-4101-acb8-afbb566c8a42"
   },
   "outputs": [
    {
     "data": {
      "text/plain": [
       "<matplotlib.axes._subplots.AxesSubplot at 0x1cf1139f508>"
      ]
     },
     "execution_count": 4,
     "metadata": {},
     "output_type": "execute_result"
    },
    {
     "data": {
      "image/png": "[encoded data removed]",
      "text/plain": [
       "<Figure size 432x288 with 1 Axes>"
      ]
     },
     "metadata": {
      "needs_background": "light"
     },
     "output_type": "display_data"
    }
   ],
   "source": [
    "sns.scatterplot(x='GRE Score',y='Chance of Admit',hue=\"GRE Score\",data=data_1)"
   ]
  },
  {
   "cell_type": "markdown",
   "metadata": {
    "colab_type": "text",
    "id": "tKrMZfAbBIrI"
   },
   "source": [
    "## Gradient Descent and Cost Function"
   ]
  },
  {
   "cell_type": "code",
   "execution_count": 5,
   "metadata": {
    "colab": {
     "base_uri": "https://localhost:8080/",
     "height": 228
    },
    "colab_type": "code",
    "id": "IDuR0yXIYM7Q",
    "outputId": "4eaeba4a-10e6-49d2-c434-aa6e08be68e3"
   },
   "outputs": [],
   "source": [
    "# means square error\n",
    "def CostFunction(x,y,m,c,n):\n",
    "    error = 0 \n",
    "    y_hat = m*x + c\n",
    "    error+=sum((y - y_hat)**2)/(2*n)\n",
    "    return error\n",
    "\n",
    "# gradient descent for linear regression\n",
    "def Gradient_Desent(x,y,m,c,error):\n",
    "    l = 0.000001\n",
    "    dc= (-2/n) * sum((y - ((m * x) + c)))\n",
    "    dm= (-2/n) * sum(x * (y - ((m * x) + c)))\n",
    "\n",
    "    m = m - (l * dm )\n",
    "    c = c - (l * dc )\n",
    "    return m,c"
   ]
  },
  {
   "cell_type": "code",
   "execution_count": 6,
   "metadata": {
    "colab": {},
    "colab_type": "code",
    "id": "2GKBiwFM3DXC"
   },
   "outputs": [
    {
     "name": "stdout",
     "output_type": "stream",
     "text": [
      "Iteration Wise Parameters Value\n",
      "\n",
      "Displaying first and last 20 iterations\n",
      "\n",
      "Error \t\t M \t\t C\n",
      "[0.27248475] [0.00046158] [1.4487e-06]\n",
      "[0.17666217] [0.00083038] [2.60493372e-06]\n",
      "[0.11548872] [0.00112505] [3.52748649e-06]\n",
      "[0.0764354] [0.0013605] [4.26332784e-06]\n",
      "[0.05150363] [0.00154862] [4.84998652e-06]\n",
      "[0.03558711] [0.00169893] [5.31744803e-06]\n",
      "[0.02542595] [0.00181903] [5.68967084e-06]\n",
      "[0.01893904] [0.00191498] [5.9857978e-06]\n",
      "[0.01479777] [0.00199165] [6.22112406e-06]\n",
      "[0.01215397] [0.00205291] [6.40787048e-06]\n",
      "[0.01046616] [0.00210186] [6.55580155e-06]\n",
      "[0.00938866] [0.00214097] [6.67271909e-06]\n",
      "[0.00870078] [0.00217221] [6.76485679e-06]\n",
      "[0.00826163] [0.00219718] [6.83719535e-06]\n",
      "[0.00798128] [0.00221713] [6.89371437e-06]\n",
      "[0.0078023] [0.00223307] [6.93759356e-06]\n",
      "[0.00768804] [0.0022458] [6.97137351e-06]\n",
      "[0.0076151] [0.00225598] [6.99708415e-06]\n",
      "[0.00756853] [0.00226411] [7.0163474e-06]\n",
      "[0.0075388] [0.00227061] [7.03045918e-06]\n",
      "[0.00748631] [0.00229643] [6.71716134e-06]\n",
      "[0.00748631] [0.00229643] [6.71079521e-06]\n",
      "[0.00748631] [0.00229643] [6.70442908e-06]\n",
      "[0.00748631] [0.00229643] [6.69806295e-06]\n",
      "[0.00748631] [0.00229643] [6.69169682e-06]\n",
      "[0.00748631] [0.00229643] [6.68533068e-06]\n",
      "[0.00748631] [0.00229643] [6.67896455e-06]\n",
      "[0.00748631] [0.00229643] [6.67259841e-06]\n",
      "[0.00748631] [0.00229643] [6.66623227e-06]\n",
      "[0.00748631] [0.00229643] [6.65986613e-06]\n",
      "[0.00748631] [0.00229643] [6.6535e-06]\n",
      "[0.00748631] [0.00229643] [6.64713386e-06]\n",
      "[0.00748631] [0.00229643] [6.64076772e-06]\n",
      "[0.00748631] [0.00229643] [6.63440158e-06]\n",
      "[0.00748631] [0.00229643] [6.62803544e-06]\n",
      "[0.00748631] [0.00229643] [6.6216693e-06]\n",
      "[0.00748631] [0.00229643] [6.61530316e-06]\n",
      "[0.00748631] [0.00229643] [6.60893702e-06]\n",
      "[0.00748631] [0.00229643] [6.60257088e-06]\n"
     ]
    }
   ],
   "source": [
    "#parameters\n",
    "epochs = 100\n",
    "m = 0\n",
    "c = 0\n",
    "history = []\n",
    "error = 0\n",
    "\n",
    "# data division into dependent and independent variab;es\n",
    "x = (data_1.iloc[:,0].values).reshape(-1,1)\n",
    "y = (data_1.iloc[:,1].values).reshape(-1,1)\n",
    "n = len(x)\n",
    "\n",
    "\n",
    "# epochs / iterations of Gradient Descent\n",
    "\n",
    "print('Iteration Wise Parameters Value\\n')\n",
    "print('Displaying first and last 20 iterations\\n')\n",
    "print('Error \\t\\t M \\t\\t C')\n",
    "for i in range(epochs):\n",
    "    error = CostFunction(x,y,m,c,n)    \n",
    "    m,c = Gradient_Desent(x, y, m, c, error)    \n",
    "    history.append([error,m,c])\n",
    "    if i<20 or i>epochs-20:\n",
    "        print(error,m,c)\n"
   ]
  },
  {
   "cell_type": "markdown",
   "metadata": {},
   "source": [
    "## Optimal Theta Values after 100 epochs"
   ]
  },
  {
   "cell_type": "code",
   "execution_count": 7,
   "metadata": {},
   "outputs": [
    {
     "name": "stdout",
     "output_type": "stream",
     "text": [
      "Optimal Values\n",
      "Error : [0.00748631]\n",
      "m value : [0.00229643]\n",
      "c value : [6.60257088e-06]\n"
     ]
    }
   ],
   "source": [
    "a=min(history,key=lambda x:x[0])\n",
    "m,c=a[1],a[2]\n",
    "print('Optimal Values')\n",
    "print('Error :',a[0])\n",
    "print('m value :',m)\n",
    "print('c value :',c)"
   ]
  },
  {
   "cell_type": "markdown",
   "metadata": {},
   "source": [
    "## Convergence Graph"
   ]
  },
  {
   "cell_type": "code",
   "execution_count": 8,
   "metadata": {},
   "outputs": [
    {
     "data": {
      "text/plain": [
       "<matplotlib.legend.Legend at 0x1cf128136c8>"
      ]
     },
     "execution_count": 8,
     "metadata": {},
     "output_type": "execute_result"
    },
    {
     "data": {
      "image/png": "[encoded data removed]",
      "text/plain": [
       "<Figure size 432x288 with 1 Axes>"
      ]
     },
     "metadata": {
      "needs_background": "light"
     },
     "output_type": "display_data"
    }
   ],
   "source": [
    "plt.plot(np.linspace(1,100,100),np.array(history)[:,0],color='r',label='error')\n",
    "plt.xlabel('Iterations')\n",
    "plt.legend(['error'])"
   ]
  },
  {
   "cell_type": "code",
   "execution_count": 9,
   "metadata": {},
   "outputs": [
    {
     "data": {
      "text/plain": [
       "<matplotlib.legend.Legend at 0x1cf12885608>"
      ]
     },
     "execution_count": 9,
     "metadata": {},
     "output_type": "execute_result"
    },
    {
     "data": {
      "image/png": "[encoded data removed]",
      "text/plain": [
       "<Figure size 432x288 with 1 Axes>"
      ]
     },
     "metadata": {
      "needs_background": "light"
     },
     "output_type": "display_data"
    }
   ],
   "source": [
    "plt.plot(np.linspace(1,100,100),np.array(history)[:,1],color='g',label='m1')\n",
    "plt.plot(np.linspace(1,100,100),np.array(history)[:,2],color='b',label='c')\n",
    "plt.xlabel('Iterations')\n",
    "plt.legend(['m','C'])"
   ]
  },
  {
   "cell_type": "markdown",
   "metadata": {},
   "source": [
    "## Linear regression fit Plot"
   ]
  },
  {
   "cell_type": "code",
   "execution_count": 10,
   "metadata": {
    "colab": {
     "base_uri": "https://localhost:8080/",
     "height": 161
    },
    "colab_type": "code",
    "id": "RdVltg6lGEXO",
    "outputId": "da1106d5-ae4c-4e93-dea3-48b0e83ec023"
   },
   "outputs": [
    {
     "data": {
      "text/plain": [
       "Text(0.5, 1.0, 'GRE Score vs Chance of Admit')"
      ]
     },
     "execution_count": 10,
     "metadata": {},
     "output_type": "execute_result"
    },
    {
     "data": {
      "image/png": "[encoded data removed]",
      "text/plain": [
       "<Figure size 432x288 with 1 Axes>"
      ]
     },
     "metadata": {
      "needs_background": "light"
     },
     "output_type": "display_data"
    }
   ],
   "source": [
    "pred=m*x+c\n",
    "plt.scatter(x,y)\n",
    "plt.plot(x,pred,color='r')\n",
    "plt.xlabel('GRE Score')\n",
    "plt.ylabel('Chance of Admit')\n",
    "plt.title('GRE Score vs Chance of Admit')"
   ]
  },
  {
   "cell_type": "markdown",
   "metadata": {},
   "source": [
    "## Prediction for New Data"
   ]
  },
  {
   "cell_type": "code",
   "execution_count": 11,
   "metadata": {
    "colab": {
     "base_uri": "https://localhost:8080/",
     "height": 54
    },
    "colab_type": "code",
    "id": "jfEcdqu6ANrA",
    "outputId": "4283b2c6-d2b3-4ef7-ea81-7ac078746a1f"
   },
   "outputs": [
    {
     "name": "stdout",
     "output_type": "stream",
     "text": [
      "GRE score : 300\n",
      "Chance of Admission : 0.6889358111956 \n",
      "\n",
      "\n",
      "GRE score : 340\n",
      "Chance of Admission : 0.7807930390122295 \n",
      "\n",
      "\n"
     ]
    }
   ],
   "source": [
    "\n",
    "for i in [300,340]:\n",
    "    y_pred = m*i + c\n",
    "    print('GRE score :',i)\n",
    "    print('Chance of Admission :',y_pred[0],'\\n\\n')"
   ]
  },
  {
   "cell_type": "markdown",
   "metadata": {
    "colab": {},
    "colab_type": "code",
    "id": "mLc9uwS7y8BO"
   },
   "source": [
    "# PART II : Multilinear Regression"
   ]
  },
  {
   "cell_type": "markdown",
   "metadata": {},
   "source": [
    "## Loading Data"
   ]
  },
  {
   "cell_type": "code",
   "execution_count": 12,
   "metadata": {},
   "outputs": [
    {
     "data": {
      "text/html": [
       "<div>\n",
       "<style scoped>\n",
       "    .dataframe tbody tr th:only-of-type {\n",
       "        vertical-align: middle;\n",
       "    }\n",
       "\n",
       "    .dataframe tbody tr th {\n",
       "        vertical-align: top;\n",
       "    }\n",
       "\n",
       "    .dataframe thead th {\n",
       "        text-align: right;\n",
       "    }\n",
       "</style>\n",
       "<table border=\"1\" class=\"dataframe\">\n",
       "  <thead>\n",
       "    <tr style=\"text-align: right;\">\n",
       "      <th></th>\n",
       "      <th>GRE Score</th>\n",
       "      <th>CGPA</th>\n",
       "      <th>Chance of Admit</th>\n",
       "    </tr>\n",
       "  </thead>\n",
       "  <tbody>\n",
       "    <tr>\n",
       "      <td>0</td>\n",
       "      <td>337</td>\n",
       "      <td>9.65</td>\n",
       "      <td>0.92</td>\n",
       "    </tr>\n",
       "    <tr>\n",
       "      <td>1</td>\n",
       "      <td>324</td>\n",
       "      <td>8.87</td>\n",
       "      <td>0.76</td>\n",
       "    </tr>\n",
       "    <tr>\n",
       "      <td>2</td>\n",
       "      <td>316</td>\n",
       "      <td>8.00</td>\n",
       "      <td>0.72</td>\n",
       "    </tr>\n",
       "    <tr>\n",
       "      <td>3</td>\n",
       "      <td>322</td>\n",
       "      <td>8.67</td>\n",
       "      <td>0.80</td>\n",
       "    </tr>\n",
       "    <tr>\n",
       "      <td>4</td>\n",
       "      <td>314</td>\n",
       "      <td>8.21</td>\n",
       "      <td>0.65</td>\n",
       "    </tr>\n",
       "  </tbody>\n",
       "</table>\n",
       "</div>"
      ],
      "text/plain": [
       "   GRE Score  CGPA  Chance of Admit\n",
       "0        337  9.65             0.92\n",
       "1        324  8.87             0.76\n",
       "2        316  8.00             0.72\n",
       "3        322  8.67             0.80\n",
       "4        314  8.21             0.65"
      ]
     },
     "execution_count": 12,
     "metadata": {},
     "output_type": "execute_result"
    }
   ],
   "source": [
    "data_2 = data[[\"GRE Score\",\"CGPA\",\"Chance of Admit\"]]\n",
    "data_2.head()"
   ]
  },
  {
   "cell_type": "markdown",
   "metadata": {},
   "source": [
    "## Data Visualization"
   ]
  },
  {
   "cell_type": "code",
   "execution_count": 13,
   "metadata": {},
   "outputs": [
    {
     "data": {
      "text/plain": [
       "Text(0.5, 1.0, 'GRE Score vs CGPA')"
      ]
     },
     "execution_count": 13,
     "metadata": {},
     "output_type": "execute_result"
    },
    {
     "data": {
      "image/png": "[encoded data removed]",
      "text/plain": [
       "<Figure size 432x288 with 1 Axes>"
      ]
     },
     "metadata": {
      "needs_background": "light"
     },
     "output_type": "display_data"
    }
   ],
   "source": [
    "plt.scatter(data_2['GRE Score'],data_2['CGPA'])        #visulization of data\n",
    "plt.xlabel('GRE Score')\n",
    "plt.ylabel('CGPA')\n",
    "plt.title('GRE Score vs CGPA')"
   ]
  },
  {
   "cell_type": "markdown",
   "metadata": {},
   "source": [
    "## Data Normalization"
   ]
  },
  {
   "cell_type": "code",
   "execution_count": 14,
   "metadata": {},
   "outputs": [
    {
     "name": "stderr",
     "output_type": "stream",
     "text": [
      "C:\\Users\\Raj\\Anaconda3\\lib\\site-packages\\ipykernel_launcher.py:2: SettingWithCopyWarning: \n",
      "A value is trying to be set on a copy of a slice from a DataFrame.\n",
      "Try using .loc[row_indexer,col_indexer] = value instead\n",
      "\n",
      "See the caveats in the documentation: http://pandas.pydata.org/pandas-docs/stable/user_guide/indexing.html#returning-a-view-versus-a-copy\n",
      "  \n"
     ]
    },
    {
     "data": {
      "text/html": [
       "<div>\n",
       "<style scoped>\n",
       "    .dataframe tbody tr th:only-of-type {\n",
       "        vertical-align: middle;\n",
       "    }\n",
       "\n",
       "    .dataframe tbody tr th {\n",
       "        vertical-align: top;\n",
       "    }\n",
       "\n",
       "    .dataframe thead th {\n",
       "        text-align: right;\n",
       "    }\n",
       "</style>\n",
       "<table border=\"1\" class=\"dataframe\">\n",
       "  <thead>\n",
       "    <tr style=\"text-align: right;\">\n",
       "      <th></th>\n",
       "      <th>GRE Score</th>\n",
       "      <th>CGPA</th>\n",
       "      <th>Chance of Admit</th>\n",
       "    </tr>\n",
       "  </thead>\n",
       "  <tbody>\n",
       "    <tr>\n",
       "      <td>0</td>\n",
       "      <td>1.762107</td>\n",
       "      <td>1.764818</td>\n",
       "      <td>0.92</td>\n",
       "    </tr>\n",
       "    <tr>\n",
       "      <td>1</td>\n",
       "      <td>0.627656</td>\n",
       "      <td>0.455151</td>\n",
       "      <td>0.76</td>\n",
       "    </tr>\n",
       "    <tr>\n",
       "      <td>2</td>\n",
       "      <td>-0.070467</td>\n",
       "      <td>-1.005631</td>\n",
       "      <td>0.72</td>\n",
       "    </tr>\n",
       "    <tr>\n",
       "      <td>3</td>\n",
       "      <td>0.453126</td>\n",
       "      <td>0.119339</td>\n",
       "      <td>0.80</td>\n",
       "    </tr>\n",
       "    <tr>\n",
       "      <td>4</td>\n",
       "      <td>-0.244998</td>\n",
       "      <td>-0.653029</td>\n",
       "      <td>0.65</td>\n",
       "    </tr>\n",
       "  </tbody>\n",
       "</table>\n",
       "</div>"
      ],
      "text/plain": [
       "   GRE Score      CGPA  Chance of Admit\n",
       "0   1.762107  1.764818             0.92\n",
       "1   0.627656  0.455151             0.76\n",
       "2  -0.070467 -1.005631             0.72\n",
       "3   0.453126  0.119339             0.80\n",
       "4  -0.244998 -0.653029             0.65"
      ]
     },
     "execution_count": 14,
     "metadata": {},
     "output_type": "execute_result"
    }
   ],
   "source": [
    "for i in data_2.columns[:-1]:\n",
    "    data_2[i] = ((data[i].values-np.mean(data[i].values))/np.std(data[i].values))\n",
    "\n",
    "data_2.head()"
   ]
  },
  {
   "cell_type": "markdown",
   "metadata": {},
   "source": [
    "## Gradient Descent and Cost Function"
   ]
  },
  {
   "cell_type": "code",
   "execution_count": 15,
   "metadata": {},
   "outputs": [],
   "source": [
    "def CostFunction2(x1,x2,y,m1,m2,c,n):\n",
    "    error = 0 \n",
    "    y_hat = m1*x1 + m2*x2 + c\n",
    "    error+=sum((y - y_hat)**2)/(2*n)\n",
    "    return error\n",
    "\n",
    "\n",
    "def Gradient_Descent2(x1,x2,y,m1,m2,c):\n",
    "    l = 0.01\n",
    "    dc= (-2/n) * sum((y - ((m1 * x1) + (m2 * x2) + c)))\n",
    "    dm1= (-2/n) * sum(x1 * (y - ((m1 * x1) + (m2 * x2) + c)))\n",
    "    dm2= (-2/n) * sum(x2 * (y - ((m1 * x1) + (m2 * x2) + c)))\n",
    "\n",
    "    m1 = m1 - (l * dm1 )\n",
    "    m2 = m2 - (l * dm2 )\n",
    "    c = c - (l * dc )\n",
    "    return m1,m2,c\n"
   ]
  },
  {
   "cell_type": "code",
   "execution_count": 16,
   "metadata": {},
   "outputs": [
    {
     "name": "stdout",
     "output_type": "stream",
     "text": [
      "Iteration Wise Parameters Value\n",
      "\n",
      "Displaying first and last 20 iterations\n",
      "\n",
      "Error \t\t M1 \t\t M2 \t C\n",
      "[0.27248475] [0.00228633] [0.00248767] [0.014487]\n",
      "[0.26153568] [0.00448549] [0.00488749] [0.02868426]\n",
      "[0.25103828] [0.00660068] [0.00720267] [0.04259757]\n",
      "[0.24097334] [0.00863499] [0.00943631] [0.05623262]\n",
      "[0.23132254] [0.0105914] [0.01159139] [0.06959497]\n",
      "[0.22206836] [0.01247278] [0.01367076] [0.08269007]\n",
      "[0.21319404] [0.01428188] [0.0156772] [0.09552327]\n",
      "[0.20468357] [0.01602138] [0.01761337] [0.1080998]\n",
      "[0.19652166] [0.01769382] [0.01948184] [0.12042481]\n",
      "[0.18869366] [0.01930169] [0.02128507] [0.13250331]\n",
      "[0.18118559] [0.02084735] [0.02302545] [0.14434025]\n",
      "[0.17398404] [0.0223331] [0.02470526] [0.15594044]\n",
      "[0.16707623] [0.02376115] [0.02632673] [0.16730863]\n",
      "[0.1604499] [0.02513362] [0.02789197] [0.17844946]\n",
      "[0.15409333] [0.02645257] [0.02940305] [0.18936747]\n",
      "[0.14799531] [0.02771996] [0.03086192] [0.20006712]\n",
      "[0.1421451] [0.02893769] [0.0322705] [0.21055278]\n",
      "[0.13653244] [0.03010761] [0.03363062] [0.22082872]\n",
      "[0.13114749] [0.03123146] [0.03494405] [0.23089915]\n",
      "[0.12598084] [0.03231095] [0.03621248] [0.24076817]\n",
      "[0.00222677] [0.04097343] [0.08924594] [0.72430725]\n",
      "[0.00222673] [0.04095334] [0.08926603] [0.72430811]\n",
      "[0.00222669] [0.04093333] [0.08928604] [0.72430894]\n",
      "[0.00222665] [0.04091338] [0.08930599] [0.72430977]\n",
      "[0.00222661] [0.0408935] [0.08932587] [0.72431057]\n",
      "[0.00222657] [0.04087368] [0.08934569] [0.72431136]\n",
      "[0.00222653] [0.04085393] [0.08936544] [0.72431213]\n",
      "[0.00222649] [0.04083425] [0.08938512] [0.72431289]\n",
      "[0.00222645] [0.04081463] [0.08940474] [0.72431363]\n",
      "[0.00222641] [0.04079508] [0.08942429] [0.72431436]\n",
      "[0.00222637] [0.04077559] [0.08944378] [0.72431507]\n",
      "[0.00222634] [0.04075617] [0.0894632] [0.72431577]\n",
      "[0.0022263] [0.04073681] [0.08948256] [0.72431645]\n",
      "[0.00222626] [0.04071752] [0.08950185] [0.72431713]\n",
      "[0.00222622] [0.04069829] [0.08952108] [0.72431778]\n",
      "[0.00222619] [0.04067913] [0.08954024] [0.72431843]\n",
      "[0.00222615] [0.04066003] [0.08955934] [0.72431906]\n",
      "[0.00222611] [0.04064099] [0.08957838] [0.72431968]\n",
      "[0.00222608] [0.04062202] [0.08959735] [0.72432028]\n"
     ]
    }
   ],
   "source": [
    "# parameters\n",
    "epochs = 500\n",
    "m1 = 0\n",
    "m2 = 0\n",
    "c = 0\n",
    "history2 = []\n",
    "error = 0\n",
    "\n",
    "# data division into dependent and independent variables\n",
    "x1 = (data_2.iloc[:,0].values).reshape(-1,1)\n",
    "\n",
    "x2 = (data_2.iloc[:,1].values).reshape(-1,1)\n",
    "\n",
    "y = (data_2.iloc[:,2].values).reshape(-1,1)\n",
    "n = len(x1)\n",
    "\n",
    "\n",
    "# epochs / iterations of Gradient Descent\n",
    "\n",
    "print('Iteration Wise Parameters Value\\n')\n",
    "print('Displaying first and last 20 iterations\\n')\n",
    "print('Error \\t\\t M1 \\t\\t M2 \\t C')\n",
    "for i in range(epochs):\n",
    "    error = CostFunction2(x1,x2,y,m1,m2,c,n)    \n",
    "    m1,m2,c = Gradient_Descent2(x1,x2, y, m1,m2, c)    \n",
    "    history2.append([error,m1,m2,c])\n",
    "    \n",
    "    if i<20 or i>epochs-20:\n",
    "        print(error,m1,m2,c)\n",
    "    "
   ]
  },
  {
   "cell_type": "markdown",
   "metadata": {},
   "source": [
    "## Optimal Theta Values after 500 iterations"
   ]
  },
  {
   "cell_type": "code",
   "execution_count": 17,
   "metadata": {},
   "outputs": [
    {
     "name": "stdout",
     "output_type": "stream",
     "text": [
      "Optimal Values\n",
      "Error : [0.00748631]\n",
      "m1 value :  [0.04062202]\n",
      "m2 value :  [0.08959735]\n",
      "c :  [0.72432028]\n"
     ]
    }
   ],
   "source": [
    "m1,m2,c=history2[-1][1],history2[-1][2],history2[-1][3]\n",
    "\n",
    "print('Optimal Values')\n",
    "print('Error :',history[-1][0])\n",
    "print(\"m1 value : \",m1)\n",
    "print(\"m2 value : \",m2)\n",
    "print(\"c : \",c)"
   ]
  },
  {
   "cell_type": "markdown",
   "metadata": {},
   "source": [
    "## Convergence Graph"
   ]
  },
  {
   "cell_type": "code",
   "execution_count": 18,
   "metadata": {},
   "outputs": [
    {
     "data": {
      "text/plain": [
       "<matplotlib.legend.Legend at 0x1cf12a0eec8>"
      ]
     },
     "execution_count": 18,
     "metadata": {},
     "output_type": "execute_result"
    },
    {
     "data": {
      "image/png": "[encoded data removed]",
      "text/plain": [
       "<Figure size 432x288 with 1 Axes>"
      ]
     },
     "metadata": {
      "needs_background": "light"
     },
     "output_type": "display_data"
    }
   ],
   "source": [
    "plt.plot(np.linspace(1,500,500),np.array(history2)[:,0],color='r')\n",
    "plt.plot(np.linspace(1,500,500),np.array(history2)[:,1],color='g',label='m1')\n",
    "plt.plot(np.linspace(1,500,500),np.array(history2)[:,2],color='b',label='m2')\n",
    "#plt.plot(np.linspace(1,500,500),np.array(history2)[:,3],color='orange',label='C')\n",
    "plt.xlabel('Iterations')\n",
    "plt.legend(['error','m1','m2','C'])"
   ]
  },
  {
   "cell_type": "markdown",
   "metadata": {},
   "source": [
    "## Prediction and Result Comparison"
   ]
  },
  {
   "cell_type": "code",
   "execution_count": 19,
   "metadata": {},
   "outputs": [
    {
     "name": "stdout",
     "output_type": "stream",
     "text": [
      "GRE Score and CGPA: [1.76210664] & [1.76481828] Actual Answer : [0.92] Predicted Answer : [0.9008502] \n",
      "\n",
      "GRE Score and CGPA: [0.62765641] & [0.45515126] Actual Answer : [0.76] Predicted Answer : [0.78350751] \n",
      "\n",
      "GRE Score and CGPA: [-0.07046681] & [-1.00563118] Actual Answer : [0.72] Predicted Answer : [0.65262528] \n",
      "\n",
      "GRE Score and CGPA: [0.4531256] & [0.11933921] Actual Answer : [0.8] Predicted Answer : [0.75341964] \n",
      "\n",
      "GRE Score and CGPA: [-0.24499762] & [-0.65302852] Actual Answer : [0.65] Predicted Answer : [0.68421754] \n",
      "\n",
      "GRE Score and CGPA: [1.15124883] & [1.24430959] Actual Answer : [0.9] Predicted Answer : [0.854214] \n",
      "\n",
      "GRE Score and CGPA: [0.3658602] & [-0.66981912] Actual Answer : [0.75] Predicted Answer : [0.68271315] \n",
      "\n",
      "GRE Score and CGPA: [-0.76859003] & [-1.1735372] Actual Answer : [0.68] Predicted Answer : [0.63758134] \n",
      "\n",
      "GRE Score and CGPA: [-1.29218245] & [-1.00563118] Actual Answer : [0.5] Predicted Answer : [0.65262528] \n",
      "\n",
      "GRE Score and CGPA: [0.54039101] & [0.00180499] Actual Answer : [0.45] Predicted Answer : [0.74288888] \n",
      "\n"
     ]
    }
   ],
   "source": [
    "y_pred = m1*x1[100] + m2*x2 + c\n",
    "for i in range(10):\n",
    "    print('GRE Score and CGPA:',x1[i],'&',x2[i],'Actual Answer :',y[i],end=' ')\n",
    "    print('Predicted Answer :',y_pred[i],'\\n')"
   ]
  },
  {
   "cell_type": "markdown",
   "metadata": {},
   "source": [
    " "
   ]
  },
  {
   "cell_type": "markdown",
   "metadata": {},
   "source": [
    "# Part III : Logistic Regression"
   ]
  },
  {
   "cell_type": "markdown",
   "metadata": {},
   "source": [
    "## Loading Data"
   ]
  },
  {
   "cell_type": "code",
   "execution_count": 20,
   "metadata": {},
   "outputs": [
    {
     "data": {
      "text/html": [
       "<div>\n",
       "<style scoped>\n",
       "    .dataframe tbody tr th:only-of-type {\n",
       "        vertical-align: middle;\n",
       "    }\n",
       "\n",
       "    .dataframe tbody tr th {\n",
       "        vertical-align: top;\n",
       "    }\n",
       "\n",
       "    .dataframe thead th {\n",
       "        text-align: right;\n",
       "    }\n",
       "</style>\n",
       "<table border=\"1\" class=\"dataframe\">\n",
       "  <thead>\n",
       "    <tr style=\"text-align: right;\">\n",
       "      <th></th>\n",
       "      <th>age</th>\n",
       "      <th>sex</th>\n",
       "      <th>cp</th>\n",
       "      <th>trestbps</th>\n",
       "      <th>chol</th>\n",
       "      <th>fbs</th>\n",
       "      <th>restecg</th>\n",
       "      <th>thalach</th>\n",
       "      <th>exang</th>\n",
       "      <th>oldpeak</th>\n",
       "      <th>slope</th>\n",
       "      <th>ca</th>\n",
       "      <th>thal</th>\n",
       "      <th>target</th>\n",
       "    </tr>\n",
       "  </thead>\n",
       "  <tbody>\n",
       "    <tr>\n",
       "      <td>0</td>\n",
       "      <td>63</td>\n",
       "      <td>1</td>\n",
       "      <td>3</td>\n",
       "      <td>145</td>\n",
       "      <td>233</td>\n",
       "      <td>1</td>\n",
       "      <td>0</td>\n",
       "      <td>150</td>\n",
       "      <td>0</td>\n",
       "      <td>2.3</td>\n",
       "      <td>0</td>\n",
       "      <td>0</td>\n",
       "      <td>1</td>\n",
       "      <td>1</td>\n",
       "    </tr>\n",
       "    <tr>\n",
       "      <td>1</td>\n",
       "      <td>37</td>\n",
       "      <td>1</td>\n",
       "      <td>2</td>\n",
       "      <td>130</td>\n",
       "      <td>250</td>\n",
       "      <td>0</td>\n",
       "      <td>1</td>\n",
       "      <td>187</td>\n",
       "      <td>0</td>\n",
       "      <td>3.5</td>\n",
       "      <td>0</td>\n",
       "      <td>0</td>\n",
       "      <td>2</td>\n",
       "      <td>1</td>\n",
       "    </tr>\n",
       "    <tr>\n",
       "      <td>2</td>\n",
       "      <td>41</td>\n",
       "      <td>0</td>\n",
       "      <td>1</td>\n",
       "      <td>130</td>\n",
       "      <td>204</td>\n",
       "      <td>0</td>\n",
       "      <td>0</td>\n",
       "      <td>172</td>\n",
       "      <td>0</td>\n",
       "      <td>1.4</td>\n",
       "      <td>2</td>\n",
       "      <td>0</td>\n",
       "      <td>2</td>\n",
       "      <td>1</td>\n",
       "    </tr>\n",
       "    <tr>\n",
       "      <td>3</td>\n",
       "      <td>56</td>\n",
       "      <td>1</td>\n",
       "      <td>1</td>\n",
       "      <td>120</td>\n",
       "      <td>236</td>\n",
       "      <td>0</td>\n",
       "      <td>1</td>\n",
       "      <td>178</td>\n",
       "      <td>0</td>\n",
       "      <td>0.8</td>\n",
       "      <td>2</td>\n",
       "      <td>0</td>\n",
       "      <td>2</td>\n",
       "      <td>1</td>\n",
       "    </tr>\n",
       "    <tr>\n",
       "      <td>4</td>\n",
       "      <td>57</td>\n",
       "      <td>0</td>\n",
       "      <td>0</td>\n",
       "      <td>120</td>\n",
       "      <td>354</td>\n",
       "      <td>0</td>\n",
       "      <td>1</td>\n",
       "      <td>163</td>\n",
       "      <td>1</td>\n",
       "      <td>0.6</td>\n",
       "      <td>2</td>\n",
       "      <td>0</td>\n",
       "      <td>2</td>\n",
       "      <td>1</td>\n",
       "    </tr>\n",
       "  </tbody>\n",
       "</table>\n",
       "</div>"
      ],
      "text/plain": [
       "   age  sex  cp  trestbps  chol  fbs  restecg  thalach  exang  oldpeak  slope  \\\n",
       "0   63    1   3       145   233    1        0      150      0      2.3      0   \n",
       "1   37    1   2       130   250    0        1      187      0      3.5      0   \n",
       "2   41    0   1       130   204    0        0      172      0      1.4      2   \n",
       "3   56    1   1       120   236    0        1      178      0      0.8      2   \n",
       "4   57    0   0       120   354    0        1      163      1      0.6      2   \n",
       "\n",
       "   ca  thal  target  \n",
       "0   0     1       1  \n",
       "1   0     2       1  \n",
       "2   0     2       1  \n",
       "3   0     2       1  \n",
       "4   0     2       1  "
      ]
     },
     "execution_count": 20,
     "metadata": {},
     "output_type": "execute_result"
    }
   ],
   "source": [
    "data3=pd.read_csv('heart.csv')\n",
    "data3.head()"
   ]
  },
  {
   "cell_type": "markdown",
   "metadata": {},
   "source": [
    "## Data Subset "
   ]
  },
  {
   "cell_type": "code",
   "execution_count": 21,
   "metadata": {},
   "outputs": [
    {
     "name": "stdout",
     "output_type": "stream",
     "text": [
      "     age  thalach  target\n",
      "0     63      150       1\n",
      "1     37      187       1\n",
      "2     41      172       1\n",
      "3     56      178       1\n",
      "4     57      163       1\n",
      "..   ...      ...     ...\n",
      "298   57      123       0\n",
      "299   45      132       0\n",
      "300   68      141       0\n",
      "301   57      115       0\n",
      "302   57      174       0\n",
      "\n",
      "[303 rows x 3 columns]\n"
     ]
    }
   ],
   "source": [
    "print(data3[['age','thalach','target']])"
   ]
  },
  {
   "cell_type": "markdown",
   "metadata": {},
   "source": [
    "## Data / Feature Normalization"
   ]
  },
  {
   "cell_type": "code",
   "execution_count": 22,
   "metadata": {
    "scrolled": true
   },
   "outputs": [
    {
     "name": "stdout",
     "output_type": "stream",
     "text": [
      "[[ 0.9521966   0.01544279]\n",
      " [-1.91531289  1.63347147]\n",
      " [-1.47415758  0.97751389]\n",
      " [ 0.18017482  1.23989692]\n",
      " [ 0.29046364  0.58393935]\n",
      " [ 0.29046364 -0.07201822]\n",
      " [ 0.18017482  0.1466343 ]\n",
      " [-1.1432911   1.0212444 ]\n",
      " [-0.26098049  0.54020884]\n",
      " [ 0.29046364  1.0649749 ]]\n"
     ]
    }
   ],
   "source": [
    "X=data3[['age','thalach']].values\n",
    "y=(data3.iloc[:,-1].values).reshape(-1,1)\n",
    "\n",
    "X=(X-np.mean(X,0))/np.std(X,0)\n",
    "\n",
    "print(X[:10,:])"
   ]
  },
  {
   "cell_type": "markdown",
   "metadata": {},
   "source": [
    "## Data Visualization"
   ]
  },
  {
   "cell_type": "code",
   "execution_count": 23,
   "metadata": {},
   "outputs": [
    {
     "data": {
      "text/plain": [
       "Text(0.5, 1.0, 'Age vs Thalach')"
      ]
     },
     "execution_count": 23,
     "metadata": {},
     "output_type": "execute_result"
    },
    {
     "data": {
      "image/png": "[encoded data removed]",
      "text/plain": [
       "<Figure size 432x288 with 1 Axes>"
      ]
     },
     "metadata": {
      "needs_background": "light"
     },
     "output_type": "display_data"
    }
   ],
   "source": [
    "#plt.figure(figsize=(12,8))\n",
    "sns.scatterplot(data3['age'],data3['thalach'],hue=data3['target'])\n",
    "plt.xlabel('Age')\n",
    "plt.ylabel('Thalach')\n",
    "plt.title('Age vs Thalach')"
   ]
  },
  {
   "cell_type": "markdown",
   "metadata": {},
   "source": [
    "## Train - Test Data Split"
   ]
  },
  {
   "cell_type": "code",
   "execution_count": 24,
   "metadata": {},
   "outputs": [],
   "source": [
    "from sklearn.model_selection import train_test_split\n",
    "X_train, X_test, y_train, y_test = train_test_split(X, y, test_size=0.3, random_state=42)\n",
    "\n",
    "X_train=np.append(np.ones([len(X_train),1]),X_train,axis = 1)\n",
    "X_test=np.append(np.ones([len(X_test),1]),X_test,axis = 1)"
   ]
  },
  {
   "cell_type": "markdown",
   "metadata": {},
   "source": [
    "## Gradient Descent , Cost Function and Predict Function"
   ]
  },
  {
   "cell_type": "code",
   "execution_count": 25,
   "metadata": {},
   "outputs": [],
   "source": [
    "def logreg_cost(theta,x,y):                                \n",
    "    m,n = x.shape\n",
    "    cost = -(1 / m) * np.sum((y * np.log((1/(1+np.exp(-x.dot(theta)))))) + ((1 - y) * np.log(1-(1/(1+np.exp(-x.dot(theta)))))))\n",
    "    return cost\n",
    "\n",
    "def Gradient_Descent3(iterations,alpha,X_train,y_train):\n",
    "    n,f = X_train.shape # of Rows and Features\n",
    "    theta = np.zeros((f,1))\n",
    "    history3=[]\n",
    "    for i in range(iterations):\n",
    "        grad=(1 / n) * np.dot(X_train.T, (1/(1+np.exp(-(X_train.dot(theta))))) - y_train)\n",
    "        \n",
    "        cost=logreg_cost(theta,X_train,y_train)\n",
    "\n",
    "        theta = theta - (alpha*(grad)/len(X_train))\n",
    "        \n",
    "        history3.append(([cost]+list(theta.flatten())))\n",
    "        \n",
    "    return history3\n",
    "\n",
    "def predict(data,theta):\n",
    "    y_hat=1/(1+np.exp(-(np.dot(data,theta))))\n",
    "    \n",
    "    y_hat=[1 if i > 0.5 else 0 for i in y_hat]\n",
    "    \n",
    "    return y_hat\n"
   ]
  },
  {
   "cell_type": "markdown",
   "metadata": {},
   "source": [
    "## Epochs and Optimal Theta Values"
   ]
  },
  {
   "cell_type": "code",
   "execution_count": 26,
   "metadata": {},
   "outputs": [
    {
     "name": "stdout",
     "output_type": "stream",
     "text": [
      "Optimal Cost\n",
      "0.6923773926317269\n",
      "Optimal Values for theta0,theta1 and theta2\n",
      "[0.0005995753564405085, -0.0015947731580200724, 0.002833153476409542]\n"
     ]
    }
   ],
   "source": [
    "# Parameters\n",
    "iterations = 300\n",
    "alpha = 0.01\n",
    "\n",
    "\n",
    "history3= Gradient_Descent3(iterations,alpha,X_train,y_train)\n",
    "\n",
    "\n",
    "theta=history3[-1][1:]\n",
    "print('Optimal Cost')\n",
    "print(history3[-1][0])\n",
    "print('Optimal Values for theta0,theta1 and theta2')\n",
    "print(theta)"
   ]
  },
  {
   "cell_type": "markdown",
   "metadata": {},
   "source": [
    "## Convergence Graph"
   ]
  },
  {
   "cell_type": "code",
   "execution_count": 27,
   "metadata": {},
   "outputs": [
    {
     "data": {
      "text/plain": [
       "<matplotlib.legend.Legend at 0x1cf12d36f48>"
      ]
     },
     "execution_count": 27,
     "metadata": {},
     "output_type": "execute_result"
    },
    {
     "data": {
      "image/png": "[encoded data removed]",
      "text/plain": [
       "<Figure size 432x288 with 1 Axes>"
      ]
     },
     "metadata": {
      "needs_background": "light"
     },
     "output_type": "display_data"
    }
   ],
   "source": [
    "plt.plot(np.linspace(1,300,300),np.array(history3)[:,0],color='r')\n",
    "plt.xlabel('Iterations')\n",
    "plt.legend(['error','m1','m2'])"
   ]
  },
  {
   "cell_type": "code",
   "execution_count": 28,
   "metadata": {},
   "outputs": [
    {
     "data": {
      "text/plain": [
       "<matplotlib.legend.Legend at 0x1cf12da6848>"
      ]
     },
     "execution_count": 28,
     "metadata": {},
     "output_type": "execute_result"
    },
    {
     "data": {
      "image/png": "[encoded data removed]",
      "text/plain": [
       "<Figure size 432x288 with 1 Axes>"
      ]
     },
     "metadata": {
      "needs_background": "light"
     },
     "output_type": "display_data"
    }
   ],
   "source": [
    "plt.plot(np.linspace(1,300,300),np.array(history3)[:,1],color='g',label='m1')\n",
    "plt.plot(np.linspace(1,300,300),np.array(history3)[:,2],color='b',label='m2')\n",
    "plt.plot(np.linspace(1,300,300),np.array(history3)[:,3],color='r',label='m2')\n",
    "plt.xlabel('Iterations')\n",
    "plt.legend(['m1','m2','C'])"
   ]
  },
  {
   "cell_type": "markdown",
   "metadata": {},
   "source": [
    "## Model Performance on Training and Testing Data"
   ]
  },
  {
   "cell_type": "code",
   "execution_count": 29,
   "metadata": {},
   "outputs": [
    {
     "name": "stdout",
     "output_type": "stream",
     "text": [
      "Training Accuracy : 0.6745283018867925\n",
      "Testing Accuracy : 0.7142857142857143\n"
     ]
    }
   ],
   "source": [
    "from sklearn.metrics import accuracy_score\n",
    "\n",
    "y_pred1 = predict(X_train,theta)\n",
    "score1=accuracy_score(y_train,y_pred1)\n",
    "print('Training Accuracy :',score1)\n",
    "\n",
    "y_pred2 = predict(X_test,theta)\n",
    "score2=accuracy_score(y_test,y_pred2)\n",
    "print('Testing Accuracy :',score2)"
   ]
  },
  {
   "cell_type": "markdown",
   "metadata": {},
   "source": [
    "## Comparison with in-built Logistic Regression function"
   ]
  },
  {
   "cell_type": "code",
   "execution_count": 30,
   "metadata": {},
   "outputs": [
    {
     "name": "stdout",
     "output_type": "stream",
     "text": [
      "Training Accuracy : 0.6933962264150944\n",
      "Testing Accuracy : 0.7032967032967034\n"
     ]
    },
    {
     "name": "stderr",
     "output_type": "stream",
     "text": [
      "C:\\Users\\Raj\\Anaconda3\\lib\\site-packages\\sklearn\\utils\\validation.py:73: DataConversionWarning: A column-vector y was passed when a 1d array was expected. Please change the shape of y to (n_samples, ), for example using ravel().\n",
      "  return f(**kwargs)\n"
     ]
    }
   ],
   "source": [
    "from sklearn.linear_model import LogisticRegression \n",
    "\n",
    "classifier = LogisticRegression(random_state = 0) \n",
    "classifier.fit(X_train, y_train) \n",
    "\n",
    "y_pred = classifier.predict(X_train)\n",
    "print('Training Accuracy :',accuracy_score(y_train,y_pred))\n",
    "\n",
    "y_pred = classifier.predict(X_test)\n",
    "print('Testing Accuracy :',accuracy_score(y_test,y_pred))"
   ]
  },
  {
   "cell_type": "markdown",
   "metadata": {},
   "source": [
    " "
   ]
  },
  {
   "cell_type": "markdown",
   "metadata": {},
   "source": [
    "# Thank You"
   ]
  }
 ],
 "metadata": {
  "colab": {
   "collapsed_sections": [],
   "name": "DL_Lab_1.ipynb",
   "provenance": [],
   "toc_visible": true
  },
  "kernelspec": {
   "display_name": "Python 3",
   "language": "python",
   "name": "python3"
  },
  "language_info": {
   "codemirror_mode": {
    "name": "ipython",
    "version": 3
   },
   "file_extension": ".py",
   "mimetype": "text/x-python",
   "name": "python",
   "nbconvert_exporter": "python",
   "pygments_lexer": "ipython3",
   "version": "3.7.4"
  }
 },
 "nbformat": 4,
 "nbformat_minor": 1
}
